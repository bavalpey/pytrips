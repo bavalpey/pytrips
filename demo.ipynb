{
 "cells": [
  {
   "cell_type": "code",
   "execution_count": 1,
   "metadata": {},
   "outputs": [
    {
     "name": "stderr",
     "output_type": "stream",
     "text": [
      "no synset found for absolute%3:00:00:inalienable:00\n",
      "no synset found for absolute%3:00:00:inalienable:00\n",
      "no synset found for immoral%3:00:00:wrong:01\n",
      "no synset found for immoral%3:00:00:wrong:01\n",
      "no synset found for nauseous%3:00:00:ill:01\n",
      "no synset found for nauseated%3:00:00:ill:01\n",
      "no synset found for queasy%3:00:00:ill:01\n",
      "no synset found for sickish%3:00:00:ill:01\n",
      "no synset found for nauseous%3:00:00:ill:01\n",
      "no synset found for nauseated%3:00:00:ill:01\n",
      "no synset found for queasy%3:00:00:ill:01\n",
      "no synset found for sickish%3:00:00:ill:01\n",
      "no synset found for be%2:42:012::\n",
      "no synset found for be%2:42:012::\n",
      "no synset found for ideal%3:00:00:perfect:00\n",
      "no synset found for ideal%3:00:00:perfect:00\n",
      "no synset found for another%3:00:00::\n",
      "no synset found for another%3:00:00::\n",
      "no synset found for distinct%5:00:00::\n",
      "no synset found for distinct%5:00:00::\n",
      "no synset found for corresponding%5:00:00::\n",
      "no synset found for corresponding%5:00:00::\n",
      "no synset found for favourite%3:00:00:popular:00\n",
      "no synset found for favourite%3:00:00:loved:00\n",
      "no synset found for favourite%3:00:00:popular:00\n",
      "no synset found for favourite%3:00:00:loved:00\n",
      "no synset found for technology%1:06:00::\n",
      "no synset found for technology%1:06:00::\n"
     ]
    }
   ],
   "source": [
    "from ontology.ontology import load\n",
    "\n",
    "ont = load()"
   ]
  },
  {
   "cell_type": "code",
   "execution_count": 2,
   "metadata": {},
   "outputs": [
    {
     "name": "stdout",
     "output_type": "stream",
     "text": [
      "ont::catch\n",
      "ont::co-motion\n",
      "[]\n",
      "[<TripsRestriction :neutral >, <TripsRestriction :source >, <TripsRestriction :result ont::position-relnand 1 others>, <TripsRestriction :extent ont::quantity>, <TripsRestriction :affected ont::personand 1 others>, <TripsRestriction :agent ont::animaland 4 others>]\n"
     ]
    }
   ],
   "source": [
    "catch = ont[\"catch\"] # lookup an ontology type\n",
    "\n",
    "print(catch)\n",
    "print(catch.parent)\n",
    "print(catch.children)\n",
    "print(catch.arguments)"
   ]
  },
  {
   "cell_type": "code",
   "execution_count": 3,
   "metadata": {},
   "outputs": [
    {
     "data": {
      "text/plain": [
       "True"
      ]
     },
     "execution_count": 3,
     "metadata": {},
     "output_type": "execute_result"
    }
   ],
   "source": [
    "# Check that is subsumed by food\n",
    "\n",
    "catch < \"event-of-action\""
   ]
  },
  {
   "cell_type": "code",
   "execution_count": 4,
   "metadata": {},
   "outputs": [
    {
     "data": {
      "text/plain": [
       "True"
      ]
     },
     "execution_count": 4,
     "metadata": {},
     "output_type": "execute_result"
    }
   ],
   "source": [
    "\"food\" > ont[\"bread\"] # check subsumption.  Make sure at least one type is explicitly a TripsType"
   ]
  },
  {
   "cell_type": "code",
   "execution_count": 5,
   "metadata": {},
   "outputs": [
    {
     "name": "stdout",
     "output_type": "stream",
     "text": [
      "searching for cat.None\n"
     ]
    },
    {
     "data": {
      "text/plain": [
       "[ont::nonhuman-animal, ont::medical-diagnostic]"
      ]
     },
     "execution_count": 5,
     "metadata": {},
     "output_type": "execute_result"
    }
   ],
   "source": [
    "ont[\"w::cat\"] # lookup a word"
   ]
  },
  {
   "cell_type": "code",
   "execution_count": 6,
   "metadata": {},
   "outputs": [
    {
     "data": {
      "text/plain": [
       "ont::person"
      ]
     },
     "execution_count": 6,
     "metadata": {},
     "output_type": "execute_result"
    }
   ],
   "source": [
    "ont[\"ont::person\"] # or lookup a type"
   ]
  },
  {
   "cell_type": "code",
   "execution_count": 7,
   "metadata": {},
   "outputs": [
    {
     "data": {
      "text/plain": [
       "ont::phys-object"
      ]
     },
     "execution_count": 7,
     "metadata": {},
     "output_type": "execute_result"
    }
   ],
   "source": [
    "ont[\"bread\"] ^ ont[\"geo-object\"] # lowest common subsumer"
   ]
  },
  {
   "cell_type": "code",
   "execution_count": 8,
   "metadata": {},
   "outputs": [
    {
     "data": {
      "text/plain": [
       "[ont::device]"
      ]
     },
     "execution_count": 8,
     "metadata": {},
     "output_type": "execute_result"
    }
   ],
   "source": [
    "ont[\"wn::cat%1:06:00::\"]"
   ]
  },
  {
   "cell_type": "code",
   "execution_count": 9,
   "metadata": {},
   "outputs": [
    {
     "name": "stdout",
     "output_type": "stream",
     "text": [
      "searching for cat.None\n"
     ]
    },
    {
     "data": {
      "text/plain": [
       "[ont::nonhuman-animal, ont::medical-diagnostic]"
      ]
     },
     "execution_count": 9,
     "metadata": {},
     "output_type": "execute_result"
    }
   ],
   "source": [
    "ont[\"w::cat\"]"
   ]
  },
  {
   "cell_type": "code",
   "execution_count": 10,
   "metadata": {},
   "outputs": [
    {
     "name": "stdout",
     "output_type": "stream",
     "text": [
      "searching for cat.None\n"
     ]
    },
    {
     "data": {
      "text/plain": [
       "{'lex': [ont::nonhuman-animal, ont::medical-diagnostic],\n",
       " 'wn': [ont::communication-party,\n",
       "  ont::pharmacologic-substance,\n",
       "  ont::mammal,\n",
       "  ont::medication,\n",
       "  ont::female-person,\n",
       "  ont::male-person,\n",
       "  ont::device,\n",
       "  ont::land-vehicle,\n",
       "  ont::activity,\n",
       "  ont::emit-giveoff-discharge]}"
      ]
     },
     "execution_count": 10,
     "metadata": {},
     "output_type": "execute_result"
    }
   ],
   "source": [
    "ont[\"q::cat\"]"
   ]
  },
  {
   "cell_type": "code",
   "execution_count": 18,
   "metadata": {},
   "outputs": [
    {
     "name": "stdout",
     "output_type": "stream",
     "text": [
      "searching for move.v\n"
     ]
    },
    {
     "data": {
      "text/plain": [
       "{'lex': [ont::move, ont::provoke, ont::cause-move, ont::activity-ongoing],\n",
       " 'wn': [ont::change,\n",
       "  ont::cause-effect,\n",
       "  ont::move,\n",
       "  ont::cause-produce-reproduce,\n",
       "  ont::believe,\n",
       "  ont::activity-event,\n",
       "  ont::commerce-sell,\n",
       "  ont::progress,\n",
       "  ont::live,\n",
       "  ont::suggest]}"
      ]
     },
     "execution_count": 18,
     "metadata": {},
     "output_type": "execute_result"
    }
   ],
   "source": [
    "ont[(\"q::move\", 'v')]"
   ]
  },
  {
   "cell_type": "code",
   "execution_count": 12,
   "metadata": {},
   "outputs": [
    {
     "data": {
      "text/plain": [
       "[<TripsRestriction :norole >,\n",
       " <TripsRestriction :experiencer ont::animaland 4 others>,\n",
       " <TripsRestriction :neutral ont::agentand 5 others>,\n",
       " <TripsRestriction :neutral1 >,\n",
       " <TripsRestriction :formal ont::abstract-objectand 1 others>]"
      ]
     },
     "execution_count": 12,
     "metadata": {},
     "output_type": "execute_result"
    }
   ],
   "source": [
    "ont[\"want\"].arguments"
   ]
  },
  {
   "cell_type": "code",
   "execution_count": null,
   "metadata": {},
   "outputs": [],
   "source": []
  }
 ],
 "metadata": {
  "kernelspec": {
   "display_name": "Python 3",
   "language": "python",
   "name": "python3"
  },
  "language_info": {
   "codemirror_mode": {
    "name": "ipython",
    "version": 3
   },
   "file_extension": ".py",
   "mimetype": "text/x-python",
   "name": "python",
   "nbconvert_exporter": "python",
   "pygments_lexer": "ipython3",
   "version": "3.5.5"
  }
 },
 "nbformat": 4,
 "nbformat_minor": 2
}
