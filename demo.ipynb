{
 "cells": [
  {
   "cell_type": "code",
   "execution_count": 1,
   "metadata": {},
   "outputs": [
    {
     "name": "stderr",
     "output_type": "stream",
     "text": [
      "no synset found for immoral%3:00:00:wrong:01\n",
      "no synset found for immoral%3:00:00:wrong:01\n",
      "no synset found for distinct%5:00:00::\n",
      "no synset found for distinct%5:00:00::\n",
      "no synset found for absolute%3:00:00:inalienable:00\n",
      "no synset found for absolute%3:00:00:inalienable:00\n",
      "no synset found for corresponding%5:00:00::\n",
      "no synset found for corresponding%5:00:00::\n",
      "no synset found for ideal%3:00:00:perfect:00\n",
      "no synset found for ideal%3:00:00:perfect:00\n",
      "no synset found for flavor%2:35:00::\n",
      "no synset found for flavor%2:35:00::\n",
      "no synset found for technology%1:06:00::\n",
      "no synset found for technology%1:06:00::\n",
      "no synset found for another%3:00:00::\n",
      "no synset found for another%3:00:00::\n",
      "no synset found for be%2:42:012::\n",
      "no synset found for be%2:42:012::\n",
      "no synset found for nauseous%3:00:00:ill:01\n",
      "no synset found for nauseated%3:00:00:ill:01\n",
      "no synset found for queasy%3:00:00:ill:01\n",
      "no synset found for sickish%3:00:00:ill:01\n",
      "no synset found for nauseous%3:00:00:ill:01\n",
      "no synset found for nauseated%3:00:00:ill:01\n",
      "no synset found for queasy%3:00:00:ill:01\n",
      "no synset found for sickish%3:00:00:ill:01\n",
      "no synset found for favourite%3:00:00:popular:00\n",
      "no synset found for favourite%3:00:00:loved:00\n",
      "no synset found for favourite%3:00:00:popular:00\n",
      "no synset found for favourite%3:00:00:loved:00\n"
     ]
    }
   ],
   "source": [
    "from pytrips.ontology import load\n",
    "\n",
    "ont = load()"
   ]
  },
  {
   "cell_type": "code",
   "execution_count": 2,
   "metadata": {},
   "outputs": [
    {
     "name": "stdout",
     "output_type": "stream",
     "text": [
      "ont::catch\n",
      "ont::co-motion\n",
      "[]\n",
      "[<TripsRestriction :neutral >, <TripsRestriction :source >, <TripsRestriction :result >, <TripsRestriction :extent >, <TripsRestriction :affected >, <TripsRestriction :agent >]\n"
     ]
    }
   ],
   "source": [
    "catch = ont[\"catch\"] # lookup an ontology type\n",
    "\n",
    "print(catch)\n",
    "print(catch.parent)\n",
    "print(catch.children)\n",
    "print(catch.arguments)"
   ]
  },
  {
   "cell_type": "code",
   "execution_count": 3,
   "metadata": {},
   "outputs": [
    {
     "data": {
      "text/plain": [
       "True"
      ]
     },
     "execution_count": 3,
     "metadata": {},
     "output_type": "execute_result"
    }
   ],
   "source": [
    "# Check that is subsumed by food\n",
    "\n",
    "catch < \"event-of-action\""
   ]
  },
  {
   "cell_type": "code",
   "execution_count": 4,
   "metadata": {},
   "outputs": [
    {
     "data": {
      "text/plain": [
       "True"
      ]
     },
     "execution_count": 4,
     "metadata": {},
     "output_type": "execute_result"
    }
   ],
   "source": [
    "\"food\" > ont[\"bread\"] # check subsumption.  Make sure at least one type is explicitly a TripsType"
   ]
  },
  {
   "cell_type": "code",
   "execution_count": 5,
   "metadata": {},
   "outputs": [
    {
     "data": {
      "text/plain": [
       "[ont::nonhuman-animal, ont::medical-diagnostic]"
      ]
     },
     "execution_count": 5,
     "metadata": {},
     "output_type": "execute_result"
    }
   ],
   "source": [
    "ont[\"w::cat\"] # lookup a word"
   ]
  },
  {
   "cell_type": "code",
   "execution_count": 6,
   "metadata": {},
   "outputs": [
    {
     "data": {
      "text/plain": [
       "ont::person"
      ]
     },
     "execution_count": 6,
     "metadata": {},
     "output_type": "execute_result"
    }
   ],
   "source": [
    "ont[\"ont::person\"] # or lookup a type"
   ]
  },
  {
   "cell_type": "code",
   "execution_count": 7,
   "metadata": {},
   "outputs": [
    {
     "data": {
      "text/plain": [
       "ont::phys-object"
      ]
     },
     "execution_count": 7,
     "metadata": {},
     "output_type": "execute_result"
    }
   ],
   "source": [
    "ont[\"bread\"] ^ ont[\"geo-object\"] # lowest common subsumer"
   ]
  },
  {
   "cell_type": "code",
   "execution_count": 8,
   "metadata": {},
   "outputs": [
    {
     "data": {
      "text/plain": [
       "[ont::device]"
      ]
     },
     "execution_count": 8,
     "metadata": {},
     "output_type": "execute_result"
    }
   ],
   "source": [
    "ont[\"wn::cat%1:06:00::\"]"
   ]
  },
  {
   "cell_type": "code",
   "execution_count": 9,
   "metadata": {},
   "outputs": [
    {
     "data": {
      "text/plain": [
       "[ont::nonhuman-animal, ont::medical-diagnostic]"
      ]
     },
     "execution_count": 9,
     "metadata": {},
     "output_type": "execute_result"
    }
   ],
   "source": [
    "ont[\"w::cat\"]"
   ]
  },
  {
   "cell_type": "code",
   "execution_count": 10,
   "metadata": {},
   "outputs": [
    {
     "data": {
      "text/plain": [
       "{'lex': [ont::nonhuman-animal, ont::medical-diagnostic],\n",
       " 'wn': [ont::pharmacologic-substance,\n",
       "  ont::female-person,\n",
       "  ont::communication-party,\n",
       "  ont::male-person,\n",
       "  ont::medication,\n",
       "  ont::mammal,\n",
       "  ont::device,\n",
       "  ont::land-vehicle,\n",
       "  ont::vomit]}"
      ]
     },
     "execution_count": 10,
     "metadata": {},
     "output_type": "execute_result"
    }
   ],
   "source": [
    "ont[\"q::cat\"]"
   ]
  },
  {
   "cell_type": "code",
   "execution_count": 11,
   "metadata": {},
   "outputs": [
    {
     "data": {
      "text/plain": [
       "{'lex': [ont::cause-move, ont::move, ont::provoke, ont::activity-ongoing],\n",
       " 'wn': [ont::cause-effect,\n",
       "  ont::change,\n",
       "  ont::believe,\n",
       "  ont::activity-event,\n",
       "  ont::commerce-sell,\n",
       "  ont::move,\n",
       "  ont::progress,\n",
       "  ont::live,\n",
       "  ont::suggest]}"
      ]
     },
     "execution_count": 11,
     "metadata": {},
     "output_type": "execute_result"
    }
   ],
   "source": [
    "ont[(\"q::move\", 'v')]"
   ]
  },
  {
   "cell_type": "code",
   "execution_count": 12,
   "metadata": {},
   "outputs": [
    {
     "data": {
      "text/plain": [
       "[<TripsRestriction :norole >,\n",
       " <TripsRestriction :experiencer >,\n",
       " <TripsRestriction :neutral >,\n",
       " <TripsRestriction :neutral1 >,\n",
       " <TripsRestriction :formal >]"
      ]
     },
     "execution_count": 12,
     "metadata": {},
     "output_type": "execute_result"
    }
   ],
   "source": [
    "ont[\"want\"].arguments"
   ]
  },
  {
   "cell_type": "code",
   "execution_count": 13,
   "metadata": {},
   "outputs": [
    {
     "data": {
      "text/plain": [
       "{Synset('ache.v.02'),\n",
       " Synset('ambition.v.01'),\n",
       " Synset('bid.v.05'),\n",
       " Synset('covet.v.01'),\n",
       " Synset('crave.v.01'),\n",
       " Synset('desire.v.01'),\n",
       " Synset('die.v.06'),\n",
       " Synset('envy.v.02'),\n",
       " Synset('fancy.v.02'),\n",
       " Synset('feel_like.v.01'),\n",
       " Synset('hanker.v.01'),\n",
       " Synset('hope.v.01'),\n",
       " Synset('hope.v.02'),\n",
       " Synset('itch.v.04'),\n",
       " Synset('like.v.05'),\n",
       " Synset('lust_after.v.01'),\n",
       " Synset('please.v.02'),\n",
       " Synset('quest.v.01'),\n",
       " Synset('salivate.v.02'),\n",
       " Synset('seek.v.01'),\n",
       " Synset('wish.v.01'),\n",
       " Synset('wish.v.02'),\n",
       " Synset('wish.v.04')}"
      ]
     },
     "execution_count": 13,
     "metadata": {},
     "output_type": "execute_result"
    }
   ],
   "source": [
    "ont[\"want\"].wordnet_closure()"
   ]
  },
  {
   "cell_type": "code",
   "execution_count": 14,
   "metadata": {},
   "outputs": [
    {
     "data": {
      "text/plain": [
       "{'ache',\n",
       " 'ambition',\n",
       " 'begrudge',\n",
       " 'bid',\n",
       " 'care',\n",
       " 'covet',\n",
       " 'crave',\n",
       " 'desire',\n",
       " 'die',\n",
       " 'drool',\n",
       " 'envy',\n",
       " 'fancy',\n",
       " 'feel_like',\n",
       " 'go_for',\n",
       " 'hanker',\n",
       " 'hope',\n",
       " 'hunger',\n",
       " 'itch',\n",
       " 'languish',\n",
       " 'lech_after',\n",
       " 'like',\n",
       " 'long',\n",
       " 'lust',\n",
       " 'lust_after',\n",
       " 'pine',\n",
       " 'please',\n",
       " 'quest',\n",
       " 'salivate',\n",
       " 'seek',\n",
       " 'spoil',\n",
       " 'starve',\n",
       " 'take_to',\n",
       " 'thirst',\n",
       " 'trust',\n",
       " 'want',\n",
       " 'wish',\n",
       " 'wish_well',\n",
       " 'yearn',\n",
       " 'yen'}"
      ]
     },
     "execution_count": 14,
     "metadata": {},
     "output_type": "execute_result"
    }
   ],
   "source": [
    "ont[\"want\"].word_closure()"
   ]
  },
  {
   "cell_type": "code",
   "execution_count": 26,
   "metadata": {},
   "outputs": [
    {
     "name": "stdout",
     "output_type": "stream",
     "text": [
      "39\n",
      "36\n"
     ]
    }
   ],
   "source": [
    "ont.max_wn_depth=5\n",
    "print(len(ont[\"want\"].word_closure()))\n",
    "ont.max_wn_depth = 3\n",
    "print(len(ont[\"want\"].word_closure()))"
   ]
  },
  {
   "cell_type": "code",
   "execution_count": null,
   "metadata": {},
   "outputs": [],
   "source": []
  }
 ],
 "metadata": {
  "kernelspec": {
   "display_name": "Python 3",
   "language": "python",
   "name": "python3"
  },
  "language_info": {
   "codemirror_mode": {
    "name": "ipython",
    "version": 3
   },
   "file_extension": ".py",
   "mimetype": "text/x-python",
   "name": "python",
   "nbconvert_exporter": "python",
   "pygments_lexer": "ipython3",
   "version": "3.5.5"
  }
 },
 "nbformat": 4,
 "nbformat_minor": 2
}
